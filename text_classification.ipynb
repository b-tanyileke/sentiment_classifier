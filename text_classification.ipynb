{
 "cells": [
  {
   "cell_type": "markdown",
   "id": "78aa88ac",
   "metadata": {},
   "source": [
    "##  IMDb Sentiment Classification with Transformers\n",
    "\n",
    "This notebook demonstrates how to fine-tune **DistilBERT** on the **IMDb movie review dataset** \n",
    "for binary sentiment classification (**Positive vs. Negative**).  \n",
    "\n",
    "###  Overview\n",
    "- Load and preprocess the IMDb dataset using Hugging Face `datasets`\n",
    "- Tokenize text with a BERT-based tokenizer\n",
    "- Fine-tune DistilBERT using the `Trainer` API\n",
    "- Evaluate performance with accuracy and F1-score\n",
    "- Save the trained model for later use"
   ]
  },
  {
   "cell_type": "code",
   "execution_count": 1,
   "id": "78e34165",
   "metadata": {},
   "outputs": [],
   "source": [
    "# import necessary libraries\n",
    "\n",
    "import numpy as np\n",
    "import evaluate\n",
    "import torch\n",
    "from datasets import load_dataset\n",
    "from transformers import AutoTokenizer, DataCollatorWithPadding\n",
    "from transformers import AutoModelForSequenceClassification, TrainingArguments, Trainer\n",
    "import gradio as gr"
   ]
  },
  {
   "cell_type": "markdown",
   "id": "5e5d5806",
   "metadata": {},
   "source": [
    "## 1. Load Data"
   ]
  },
  {
   "cell_type": "code",
   "execution_count": 2,
   "id": "0f56175d",
   "metadata": {},
   "outputs": [],
   "source": [
    "dataset = load_dataset(\"imdb\")"
   ]
  },
  {
   "cell_type": "markdown",
   "id": "b563beac",
   "metadata": {},
   "source": [
    "## 2. Tokenization"
   ]
  },
  {
   "cell_type": "code",
   "execution_count": 3,
   "id": "eb9182e7",
   "metadata": {},
   "outputs": [],
   "source": [
    "# load tokenizer\n",
    "tokenizer = AutoTokenizer.from_pretrained(\"distilbert-base-uncased\")"
   ]
  },
  {
   "cell_type": "code",
   "execution_count": 4,
   "id": "60e983cc",
   "metadata": {},
   "outputs": [
    {
     "data": {
      "application/vnd.jupyter.widget-view+json": {
       "model_id": "95552c495a9945c395bcc1422cebf297",
       "version_major": 2,
       "version_minor": 0
      },
      "text/plain": [
       "Map:   0%|          | 0/50000 [00:00<?, ? examples/s]"
      ]
     },
     "metadata": {},
     "output_type": "display_data"
    }
   ],
   "source": [
    "# Tokenization function\n",
    "def tokenize(batch):\n",
    "    return tokenizer(batch[\"text\"], truncation=True, max_length=256)\n",
    "\n",
    "# apply tokenizer\n",
    "tokenized_datasets = dataset.map(tokenize, batched=True)\n",
    "\n",
    "# data collector\n",
    "data_collator = DataCollatorWithPadding(tokenizer=tokenizer)"
   ]
  },
  {
   "cell_type": "markdown",
   "id": "751a5b28",
   "metadata": {},
   "source": [
    "Efficient tokenization: set remove_columns=[\"text\"] in .map() and set batched=True, batch_size=1000 for faster preprocessing."
   ]
  },
  {
   "cell_type": "markdown",
   "id": "9a20c477",
   "metadata": {},
   "source": [
    "## 3. Load Model"
   ]
  },
  {
   "cell_type": "code",
   "execution_count": 5,
   "id": "9cbeb432",
   "metadata": {},
   "outputs": [
    {
     "name": "stderr",
     "output_type": "stream",
     "text": [
      "Some weights of DistilBertForSequenceClassification were not initialized from the model checkpoint at distilbert-base-uncased and are newly initialized: ['classifier.bias', 'classifier.weight', 'pre_classifier.bias', 'pre_classifier.weight']\n",
      "You should probably TRAIN this model on a down-stream task to be able to use it for predictions and inference.\n"
     ]
    }
   ],
   "source": [
    "# load model and set number of classes to 2\n",
    "model = AutoModelForSequenceClassification.from_pretrained(\"distilbert-base-uncased\", num_labels=2)"
   ]
  },
  {
   "cell_type": "markdown",
   "id": "5451780a",
   "metadata": {},
   "source": [
    "## 4. Define Evaluation Metric"
   ]
  },
  {
   "cell_type": "code",
   "execution_count": 6,
   "id": "24e8215f",
   "metadata": {},
   "outputs": [],
   "source": [
    "# load accuracy and f1 score\n",
    "\n",
    "accuracy = evaluate.load(\"accuracy\")\n",
    "f1 = evaluate.load(\"f1\")\n",
    "\n",
    "def compute_metrics(eval_pred):\n",
    "    \"\"\" The function computes the accuracy and f1 score for the model predictions\"\"\"\n",
    "    logits, labels = eval_pred\n",
    "    preds = np.argmax(logits, axis=-1)\n",
    "    acc = accuracy.compute(predictions=preds, references=labels)\n",
    "    f1_score = f1.compute(predictions=preds, references=labels, average=\"weighted\")\n",
    "    return {\"accuracy\": acc[\"accuracy\"], \"f1\": f1_score[\"f1\"]}"
   ]
  },
  {
   "cell_type": "markdown",
   "id": "b02d4d0e",
   "metadata": {},
   "source": [
    "## 5. Training"
   ]
  },
  {
   "cell_type": "code",
   "execution_count": null,
   "id": "847468dc",
   "metadata": {},
   "outputs": [],
   "source": [
    "# Training arguments\n",
    "training_args = TrainingArguments(\n",
    "    output_dir=\"./results\",             # saves model checkpoints\n",
    "    eval_strategy=\"epoch\",\n",
    "    save_strategy=\"epoch\",\n",
    "    learning_rate=2e-5,\n",
    "    per_device_train_batch_size=16,\n",
    "    per_device_eval_batch_size=16,\n",
    "    num_train_epochs=3,\n",
    "    weight_decay=0.01,\n",
    "    logging_dir=\"./logs\",\n",
    ")\n",
    "\n",
    "trainer = Trainer(\n",
    "    model=model,\n",
    "    args=training_args,\n",
    "    train_dataset=tokenized_datasets[\"train\"],\n",
    "    eval_dataset=tokenized_datasets[\"test\"],\n",
    "    processing_class=tokenizer,\n",
    "    data_collator=data_collator,\n",
    "    compute_metrics=compute_metrics,\n",
    ")"
   ]
  },
  {
   "cell_type": "code",
   "execution_count": 8,
   "id": "c230c3ba",
   "metadata": {},
   "outputs": [
    {
     "data": {
      "text/html": [
       "\n",
       "    <div>\n",
       "      \n",
       "      <progress value='4689' max='4689' style='width:300px; height:20px; vertical-align: middle;'></progress>\n",
       "      [4689/4689 21:32, Epoch 3/3]\n",
       "    </div>\n",
       "    <table border=\"1\" class=\"dataframe\">\n",
       "  <thead>\n",
       " <tr style=\"text-align: left;\">\n",
       "      <th>Epoch</th>\n",
       "      <th>Training Loss</th>\n",
       "      <th>Validation Loss</th>\n",
       "      <th>Accuracy</th>\n",
       "      <th>F1</th>\n",
       "    </tr>\n",
       "  </thead>\n",
       "  <tbody>\n",
       "    <tr>\n",
       "      <td>1</td>\n",
       "      <td>0.255800</td>\n",
       "      <td>0.251691</td>\n",
       "      <td>0.899000</td>\n",
       "      <td>0.898742</td>\n",
       "    </tr>\n",
       "    <tr>\n",
       "      <td>2</td>\n",
       "      <td>0.175800</td>\n",
       "      <td>0.283047</td>\n",
       "      <td>0.912200</td>\n",
       "      <td>0.912164</td>\n",
       "    </tr>\n",
       "    <tr>\n",
       "      <td>3</td>\n",
       "      <td>0.109200</td>\n",
       "      <td>0.336033</td>\n",
       "      <td>0.914160</td>\n",
       "      <td>0.914160</td>\n",
       "    </tr>\n",
       "  </tbody>\n",
       "</table><p>"
      ],
      "text/plain": [
       "<IPython.core.display.HTML object>"
      ]
     },
     "metadata": {},
     "output_type": "display_data"
    },
    {
     "data": {
      "text/plain": [
       "TrainOutput(global_step=4689, training_loss=0.19062555459141095, metrics={'train_runtime': 1294.0521, 'train_samples_per_second': 57.957, 'train_steps_per_second': 3.624, 'total_flos': 4967510891175168.0, 'train_loss': 0.19062555459141095, 'epoch': 3.0})"
      ]
     },
     "execution_count": 8,
     "metadata": {},
     "output_type": "execute_result"
    }
   ],
   "source": [
    "# train the model\n",
    "trainer.train()"
   ]
  },
  {
   "cell_type": "markdown",
   "id": "a2aef613",
   "metadata": {},
   "source": [
    "## 6. Evaluate model"
   ]
  },
  {
   "cell_type": "code",
   "execution_count": 9,
   "id": "ca954c54",
   "metadata": {},
   "outputs": [
    {
     "data": {
      "text/html": [
       "\n",
       "    <div>\n",
       "      \n",
       "      <progress value='1563' max='1563' style='width:300px; height:20px; vertical-align: middle;'></progress>\n",
       "      [1563/1563 01:42]\n",
       "    </div>\n",
       "    "
      ],
      "text/plain": [
       "<IPython.core.display.HTML object>"
      ]
     },
     "metadata": {},
     "output_type": "display_data"
    },
    {
     "name": "stdout",
     "output_type": "stream",
     "text": [
      "{'eval_loss': 0.33603256940841675, 'eval_accuracy': 0.91416, 'eval_f1': 0.9141598016748058, 'eval_runtime': 103.0502, 'eval_samples_per_second': 242.6, 'eval_steps_per_second': 15.167, 'epoch': 3.0}\n"
     ]
    }
   ],
   "source": [
    "# evaluation\n",
    "results = trainer.evaluate()\n",
    "print(results)"
   ]
  },
  {
   "cell_type": "code",
   "execution_count": null,
   "id": "95d39614",
   "metadata": {},
   "outputs": [
    {
     "name": "stdout",
     "output_type": "stream",
     "text": [
      "Prediction: Positive\n"
     ]
    }
   ],
   "source": [
    "# Test on new text\n",
    "sample = \"The movie was absolutely wonderful, loved it!\"\n",
    "# tokenize sample and return pytoch tensors\n",
    "inputs = tokenizer(sample, return_tensors=\"pt\")\n",
    "# move inputs to gpu\n",
    "inputs = {k:v.to(model.device) for k,v in inputs.items()}\n",
    "\n",
    "# wrap in torch.no_grad to avoid calculating gradients\n",
    "with torch.no_grad():\n",
    "    outputs = model(**inputs)\n",
    "pred = outputs.logits.argmax().item()\n",
    "print(\"Prediction:\", \"Positive\" if pred == 1 else \"Negative\")"
   ]
  },
  {
   "cell_type": "markdown",
   "id": "7a9d2ae5",
   "metadata": {},
   "source": [
    "## 7. Save Model"
   ]
  },
  {
   "cell_type": "code",
   "execution_count": null,
   "id": "7e4ad7b3",
   "metadata": {},
   "outputs": [
    {
     "data": {
      "text/plain": [
       "('./imdb_model\\\\tokenizer_config.json',\n",
       " './imdb_model\\\\special_tokens_map.json',\n",
       " './imdb_model\\\\vocab.txt',\n",
       " './imdb_model\\\\added_tokens.json',\n",
       " './imdb_model\\\\tokenizer.json')"
      ]
     },
     "execution_count": 11,
     "metadata": {},
     "output_type": "execute_result"
    }
   ],
   "source": [
    "# Save model + tokenizer locally\n",
    "trainer.save_model(\"./imdb-model\")\n",
    "tokenizer.save_pretrained(\"./imdb-model\")"
   ]
  },
  {
   "cell_type": "code",
   "execution_count": null,
   "id": "cb5ec71d",
   "metadata": {},
   "outputs": [],
   "source": []
  }
 ],
 "metadata": {
  "kernelspec": {
   "display_name": "torch_env",
   "language": "python",
   "name": "python3"
  },
  "language_info": {
   "codemirror_mode": {
    "name": "ipython",
    "version": 3
   },
   "file_extension": ".py",
   "mimetype": "text/x-python",
   "name": "python",
   "nbconvert_exporter": "python",
   "pygments_lexer": "ipython3",
   "version": "3.10.18"
  }
 },
 "nbformat": 4,
 "nbformat_minor": 5
}
